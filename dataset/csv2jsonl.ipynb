{
 "cells": [
  {
   "cell_type": "code",
   "execution_count": 1,
   "metadata": {},
   "outputs": [],
   "source": [
    "import json\n",
    "import csv"
   ]
  },
  {
   "cell_type": "code",
   "execution_count": 1,
   "metadata": {},
   "outputs": [
    {
     "name": "stdout",
     "output_type": "stream",
     "text": [
      "Archivo JSONL creado exitosamente.\n"
     ]
    }
   ],
   "source": [
    "data = []\n",
    "with open('sms_promotionals_generation.csv', 'r', encoding='utf-8') as file:\n",
    "    csv_reader = csv.reader(file)\n",
    "    \n",
    "    for row in csv_reader:\n",
    "        line = row[0].strip()\n",
    "        try:\n",
    "            prompt = line\n",
    "            data.append({\"prompt\": prompt})\n",
    "        except:\n",
    "            print(\"Error en la línea:\", line)\n",
    "\n",
    "\n",
    "with open('dataset_sms_generation.jsonl', 'w', encoding='utf-8') as jsonl_file:\n",
    "    for entry in data:\n",
    "        json.dump(entry, jsonl_file)\n",
    "        jsonl_file.write('\\n')\n",
    "\n",
    "print(\"Archivo JSONL creado exitosamente.\")\n"
   ]
  }
 ],
 "metadata": {
  "kernelspec": {
   "display_name": "IAbootcamp-coCBLaES",
   "language": "python",
   "name": "python3"
  },
  "language_info": {
   "codemirror_mode": {
    "name": "ipython",
    "version": 3
   },
   "file_extension": ".py",
   "mimetype": "text/x-python",
   "name": "python",
   "nbconvert_exporter": "python",
   "pygments_lexer": "ipython3",
   "version": "3.10.12"
  }
 },
 "nbformat": 4,
 "nbformat_minor": 2
}
