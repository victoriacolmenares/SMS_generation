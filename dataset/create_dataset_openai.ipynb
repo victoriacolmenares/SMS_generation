{
 "cells": [
  {
   "cell_type": "code",
   "execution_count": 3,
   "metadata": {},
   "outputs": [],
   "source": [
    "from openai import OpenAI\n",
    "import pandas as pd\n",
    "import os"
   ]
  },
  {
   "cell_type": "code",
   "execution_count": null,
   "metadata": {},
   "outputs": [],
   "source": [
    "client = OpenAI(api_key = os.getenv(\"OPENAI_API_KEY\"))\n",
    "\n",
    "def generate_sms_messages(prompt, num_messages=500):\n",
    "    messages = []\n",
    "    for _ in range(num_messages):\n",
    "        response = client.chat.completions.create(\n",
    "            model=\"gpt-3.5-turbo\",\n",
    "            messages=[\n",
    "                {\"role\": \"system\", \"content\": f\"Eres un experto en crear datasets para entrenamiento de modelos. {prompt}\"},\n",
    "                {\"role\": \"user\", \"content\": prompt}\n",
    "            ],\n",
    "            max_tokens=160  # Limit the response to fit an SMS (160 characters or less)\n",
    "        )\n",
    "        if response.choices:\n",
    "            message_content = response.choices[0].message.content.strip()\n",
    "\n",
    "        print(message_content)\n",
    "        messages.append(message_content)\n",
    "    return messages"
   ]
  },
  {
   "cell_type": "code",
   "execution_count": 1,
   "metadata": {},
   "outputs": [],
   "source": [
    "first_time = True"
   ]
  },
  {
   "cell_type": "code",
   "execution_count": 2,
   "metadata": {},
   "outputs": [
    {
     "name": "stdout",
     "output_type": "stream",
     "text": [
      "¡Aprende inglés con los mejores! Descuentos especiales por pronto pago, referidos y paquetes familiares. Habla inglés como un nativo en tiempo récord. ¡Inscríbete ya!\n",
      "\n",
      "1 messages have been generated\n"
     ]
    }
   ],
   "source": [
    "prompt = (\n",
    "    \"Genera un mensaje de texto de hasta 160 caracteres promoviendo una academia de inglés. \"\n",
    "    \"Incluye variedad de descuentos. \"\n",
    "    \"Asegúrate de que cada mensaje sea único y atractivo. \"\n",
    "    \"NO USES emojis, emoticones. \"\n",
    "    \"ES IMPORTANTE NO INICIES EL MENSAJE CON LA MISMA FRASE\"\n",
    ")\n",
    "num_messages = 500\n",
    "messages = generate_sms_messages(prompt, num_messages)\n",
    "\n",
    "# Create a pandas DataFrame with the messages\n",
    "df = pd.DataFrame({'Message': messages})\n",
    "\n",
    "# Save the DataFrame to a CSV file\n",
    "filename = 'sms_promotionals_generation.csv'\n",
    "if first_time:\n",
    "    df.to_csv(filename, index=False)\n",
    "    first_time = False\n",
    "\n",
    "print(f\"\\n{num_messages} messages have been generated\")"
   ]
  },
  {
   "cell_type": "code",
   "execution_count": 22,
   "metadata": {},
   "outputs": [],
   "source": [
    "# Append the new messages to the existing CSV file\n",
    "df_existente = pd.read_csv(filename)\n",
    "df_final = pd.concat([df_existente, df], ignore_index=True)\n",
    "df_final.to_csv(archivo_csv, index=False)"
   ]
  }
 ],
 "metadata": {
  "kernelspec": {
   "display_name": "IAbootcamp-coCBLaES",
   "language": "python",
   "name": "python3"
  },
  "language_info": {
   "codemirror_mode": {
    "name": "ipython",
    "version": 3
   },
   "file_extension": ".py",
   "mimetype": "text/x-python",
   "name": "python",
   "nbconvert_exporter": "python",
   "pygments_lexer": "ipython3",
   "version": "3.10.12"
  }
 },
 "nbformat": 4,
 "nbformat_minor": 2
}
